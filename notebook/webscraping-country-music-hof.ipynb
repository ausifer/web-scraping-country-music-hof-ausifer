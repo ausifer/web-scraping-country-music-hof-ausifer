{
 "cells": [
  {
   "cell_type": "code",
   "execution_count": 1,
   "id": "0ce4def6",
   "metadata": {},
   "outputs": [],
   "source": [
    "import requests\n",
    "from bs4 import BeautifulSoup  \n",
    "import pandas as pd"
   ]
  },
  {
   "cell_type": "code",
   "execution_count": 2,
   "id": "c3102995",
   "metadata": {
    "scrolled": true
   },
   "outputs": [],
   "source": [
    "website_url = 'https://countrymusichalloffame.org/hall-of-fame/members/'\n",
    "# soup = BeautifulSoup(response.content, 'lxml')\n",
    "def step1(link):\n",
    "    response = requests.get(link)\n",
    "    if response.status_code == 200:\n",
    "        print('Good!')\n",
    "    else:\n",
    "        print(\"Not good\")\n",
    "    return response"
   ]
  },
  {
   "cell_type": "code",
   "execution_count": 3,
   "id": "3f7df721",
   "metadata": {},
   "outputs": [],
   "source": [
    "def step2(response, x): # x is really a placeholder for link\n",
    "    response = requests.get(x)\n",
    "    soup = BeautifulSoup(response.content, 'lxml')\n",
    "    print(soup.h3)\n",
    "    artist_names = soup.find_all('h3')\n",
    "    return artist_names"
   ]
  },
  {
   "cell_type": "code",
   "execution_count": 4,
   "id": "130ca077",
   "metadata": {},
   "outputs": [],
   "source": [
    "def step3(raw): # will contain artist_names\n",
    "\n",
    "    artist_names_str_list = []\n",
    "    artist_names_list = list(raw)\n",
    "    for name in artist_names_list:\n",
    "        print(name)\n",
    "        name = str(name.string)\n",
    "        name = name.replace('<h3>',\"\")\n",
    "        name = name.replace('</h3>',\"\")\n",
    "        artist_names_str_list.append(name)\n",
    "    return artist_names_str_list"
   ]
  },
  {
   "cell_type": "code",
   "execution_count": 5,
   "id": "6e3b91e3",
   "metadata": {},
   "outputs": [],
   "source": [
    "def step4(x): # again, x is a placeholder for link\n",
    "    response = requests.get(x)\n",
    "    soup = BeautifulSoup(response.content, 'lxml')\n",
    "    year_list=[]\n",
    "    for inductee_year in soup.find_all('div', class_ = 'vertical-card_content--copy'):\n",
    "        year = inductee_year.p.text.replace('Inducted', '').strip()\n",
    "        year_list.append(year) #year_list is the useful thing here)\n",
    "    return year_list"
   ]
  },
  {
   "cell_type": "code",
   "execution_count": 6,
   "id": "21d44c65",
   "metadata": {},
   "outputs": [],
   "source": [
    "def step5(artist_names_str_list, year_list):\n",
    "    df = pd.DataFrame(list(zip(artist_names_str_list, year_list)),\n",
    "                   columns =['Artist', 'Year_Inducted'])\n",
    "    return df"
   ]
  },
  {
   "cell_type": "code",
   "execution_count": 7,
   "id": "c9e5aa91",
   "metadata": {},
   "outputs": [
    {
     "name": "stdout",
     "output_type": "stream",
     "text": [
      "Good!\n",
      "<h3>Roy Acuff</h3>\n",
      "<h3>Roy Acuff</h3>\n",
      "<h3>Alabama</h3>\n",
      "<h3>Bill Anderson</h3>\n",
      "<h3>Eddy Arnold</h3>\n",
      "<h3>Chet Atkins</h3>\n",
      "<h3>Gene Autry</h3>\n",
      "<h3>DeFord Bailey</h3>\n",
      "<h3>Bobby Bare</h3>\n",
      "<h3>Johnny Bond</h3>\n"
     ]
    },
    {
     "data": {
      "text/html": [
       "<div>\n",
       "<style scoped>\n",
       "    .dataframe tbody tr th:only-of-type {\n",
       "        vertical-align: middle;\n",
       "    }\n",
       "\n",
       "    .dataframe tbody tr th {\n",
       "        vertical-align: top;\n",
       "    }\n",
       "\n",
       "    .dataframe thead th {\n",
       "        text-align: right;\n",
       "    }\n",
       "</style>\n",
       "<table border=\"1\" class=\"dataframe\">\n",
       "  <thead>\n",
       "    <tr style=\"text-align: right;\">\n",
       "      <th></th>\n",
       "      <th>Artist</th>\n",
       "      <th>Year_Inducted</th>\n",
       "    </tr>\n",
       "  </thead>\n",
       "  <tbody>\n",
       "    <tr>\n",
       "      <th>0</th>\n",
       "      <td>Roy Acuff</td>\n",
       "      <td>1962</td>\n",
       "    </tr>\n",
       "    <tr>\n",
       "      <th>1</th>\n",
       "      <td>Alabama</td>\n",
       "      <td>2005</td>\n",
       "    </tr>\n",
       "    <tr>\n",
       "      <th>2</th>\n",
       "      <td>Bill Anderson</td>\n",
       "      <td>2001</td>\n",
       "    </tr>\n",
       "    <tr>\n",
       "      <th>3</th>\n",
       "      <td>Eddy Arnold</td>\n",
       "      <td>1966</td>\n",
       "    </tr>\n",
       "    <tr>\n",
       "      <th>4</th>\n",
       "      <td>Chet Atkins</td>\n",
       "      <td>1973</td>\n",
       "    </tr>\n",
       "    <tr>\n",
       "      <th>5</th>\n",
       "      <td>Gene Autry</td>\n",
       "      <td>1969</td>\n",
       "    </tr>\n",
       "    <tr>\n",
       "      <th>6</th>\n",
       "      <td>DeFord Bailey</td>\n",
       "      <td>2005</td>\n",
       "    </tr>\n",
       "    <tr>\n",
       "      <th>7</th>\n",
       "      <td>Bobby Bare</td>\n",
       "      <td>2013</td>\n",
       "    </tr>\n",
       "    <tr>\n",
       "      <th>8</th>\n",
       "      <td>Johnny Bond</td>\n",
       "      <td>1999</td>\n",
       "    </tr>\n",
       "  </tbody>\n",
       "</table>\n",
       "</div>"
      ],
      "text/plain": [
       "          Artist Year_Inducted\n",
       "0      Roy Acuff          1962\n",
       "1        Alabama          2005\n",
       "2  Bill Anderson          2001\n",
       "3    Eddy Arnold          1966\n",
       "4    Chet Atkins          1973\n",
       "5     Gene Autry          1969\n",
       "6  DeFord Bailey          2005\n",
       "7     Bobby Bare          2013\n",
       "8    Johnny Bond          1999"
      ]
     },
     "execution_count": 7,
     "metadata": {},
     "output_type": "execute_result"
    }
   ],
   "source": [
    "def create_df(link):\n",
    "    response = requests.get(link)\n",
    "    soup = BeautifulSoup(response.content, 'lxml')\n",
    "    stuff = step1(link)\n",
    "    artist_names = step2(stuff, link)\n",
    "    artist_names_str_list = step3(artist_names)\n",
    "    year_list = step4(link)\n",
    "    df = step5(artist_names_str_list, year_list)\n",
    "    return df\n",
    "df = create_df(website_url)\n",
    "df"
   ]
  }
 ],
 "metadata": {
  "kernelspec": {
   "display_name": "Python 3",
   "language": "python",
   "name": "python3"
  },
  "language_info": {
   "codemirror_mode": {
    "name": "ipython",
    "version": 3
   },
   "file_extension": ".py",
   "mimetype": "text/x-python",
   "name": "python",
   "nbconvert_exporter": "python",
   "pygments_lexer": "ipython3",
   "version": "3.8.8"
  }
 },
 "nbformat": 4,
 "nbformat_minor": 5
}
