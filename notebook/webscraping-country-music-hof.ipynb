{
 "cells": [
  {
   "cell_type": "code",
   "execution_count": 1,
   "id": "d937dd08",
   "metadata": {},
   "outputs": [],
   "source": [
    "import requests\n",
    "from bs4 import BeautifulSoup  \n",
    "import pandas as pd"
   ]
  },
  {
   "cell_type": "code",
   "execution_count": 2,
   "id": "a8baf77a",
   "metadata": {
    "scrolled": true
   },
   "outputs": [],
   "source": [
    "website_url = 'https://countrymusichalloffame.org/hall-of-fame/members/'\n",
    "# soup = BeautifulSoup(response.content, 'lxml')\n",
    "def step1(link):\n",
    "    response = requests.get(link)\n",
    "    if response.status_code == 200:\n",
    "        print('Good!')\n",
    "    else:\n",
    "        print(\"Not good\")\n",
    "    return response"
   ]
  },
  {
   "cell_type": "code",
   "execution_count": 3,
   "id": "de8b78df",
   "metadata": {},
   "outputs": [],
   "source": [
    "def step2(response, x): # x is really a placeholder for link\n",
    "    response = requests.get(x)\n",
    "    soup = BeautifulSoup(response.content, 'lxml')\n",
    "#     print(soup.h3)\n",
    "    artist_names = soup.find_all('h3')\n",
    "    return artist_names"
   ]
  },
  {
   "cell_type": "code",
   "execution_count": 4,
   "id": "96fbb8f8",
   "metadata": {},
   "outputs": [],
   "source": [
    "def step3(raw): # will contain artist_names\n",
    "\n",
    "    artist_names_str_list = []\n",
    "    artist_names_list = list(raw)\n",
    "    for name in artist_names_list:\n",
    "#         print(name)\n",
    "        name = str(name.string)\n",
    "        name = name.replace('<h3>',\"\")\n",
    "        name = name.replace('</h3>',\"\")\n",
    "        artist_names_str_list.append(name)\n",
    "    return artist_names_str_list"
   ]
  },
  {
   "cell_type": "code",
   "execution_count": 5,
   "id": "9eac9568",
   "metadata": {},
   "outputs": [],
   "source": [
    "def step4(x): # again, x is a placeholder for link\n",
    "    response = requests.get(x)\n",
    "    soup = BeautifulSoup(response.content, 'lxml')\n",
    "    year_list=[]\n",
    "    for inductee_year in soup.find_all('div', class_ = 'vertical-card_content--copy'):\n",
    "        year = inductee_year.p.text.replace('Inducted', '').strip()\n",
    "        year_list.append(year) #year_list is the useful thing here)\n",
    "    return year_list"
   ]
  },
  {
   "cell_type": "code",
   "execution_count": 6,
   "id": "33e69e46",
   "metadata": {},
   "outputs": [],
   "source": [
    "def step5(artist_names_str_list, year_list):\n",
    "    df = pd.DataFrame(list(zip(artist_names_str_list, year_list)),\n",
    "                   columns =['Artist', 'Year_Inducted'])\n",
    "    return df"
   ]
  },
  {
   "cell_type": "code",
   "execution_count": 7,
   "id": "8011a69c",
   "metadata": {
    "scrolled": true
   },
   "outputs": [],
   "source": [
    "lst = ['https://countrymusichalloffame.org/hall-of-fame/members/']\n",
    "def create_df(link):\n",
    "    response = requests.get(link)\n",
    "    soup = BeautifulSoup(response.content, 'lxml')\n",
    "    stuff = step1(link)\n",
    "    artist_names = step2(stuff, link)\n",
    "    artist_names_str_list = step3(artist_names)\n",
    "    year_list = step4(link)\n",
    "    df = step5(artist_names_str_list, year_list)\n",
    "    lst.append(df)\n",
    "    return lst"
   ]
  },
  {
   "cell_type": "code",
   "execution_count": 8,
   "id": "f235e8ad",
   "metadata": {},
   "outputs": [],
   "source": [
    "n_site = range(2,17)\n",
    "\n",
    "for num in n_site:\n",
    "    web_url = str(f'https://countrymusichalloffame.org/hall-of-fame/members/page/{num}')\n",
    "    lst.append(web_url)"
   ]
  },
  {
   "cell_type": "code",
   "execution_count": 9,
   "id": "d57dca89",
   "metadata": {},
   "outputs": [
    {
     "data": {
      "text/plain": [
       "['https://countrymusichalloffame.org/hall-of-fame/members/',\n",
       " 'https://countrymusichalloffame.org/hall-of-fame/members/page/2',\n",
       " 'https://countrymusichalloffame.org/hall-of-fame/members/page/3',\n",
       " 'https://countrymusichalloffame.org/hall-of-fame/members/page/4',\n",
       " 'https://countrymusichalloffame.org/hall-of-fame/members/page/5',\n",
       " 'https://countrymusichalloffame.org/hall-of-fame/members/page/6',\n",
       " 'https://countrymusichalloffame.org/hall-of-fame/members/page/7',\n",
       " 'https://countrymusichalloffame.org/hall-of-fame/members/page/8',\n",
       " 'https://countrymusichalloffame.org/hall-of-fame/members/page/9',\n",
       " 'https://countrymusichalloffame.org/hall-of-fame/members/page/10',\n",
       " 'https://countrymusichalloffame.org/hall-of-fame/members/page/11',\n",
       " 'https://countrymusichalloffame.org/hall-of-fame/members/page/12',\n",
       " 'https://countrymusichalloffame.org/hall-of-fame/members/page/13',\n",
       " 'https://countrymusichalloffame.org/hall-of-fame/members/page/14',\n",
       " 'https://countrymusichalloffame.org/hall-of-fame/members/page/15',\n",
       " 'https://countrymusichalloffame.org/hall-of-fame/members/page/16']"
      ]
     },
     "execution_count": 9,
     "metadata": {},
     "output_type": "execute_result"
    }
   ],
   "source": [
    "lst"
   ]
  },
  {
   "cell_type": "code",
   "execution_count": 23,
   "id": "186038c8",
   "metadata": {},
   "outputs": [
    {
     "name": "stdout",
     "output_type": "stream",
     "text": [
      "s/\n",
      "Good!\n",
      "<class 'list'>\n",
      "x\n",
      "y\n",
      "/2\n",
      "Good!\n",
      "<class 'list'>\n",
      "x\n",
      "y\n",
      "/3\n",
      "Good!\n",
      "<class 'list'>\n",
      "x\n",
      "y\n",
      "/4\n",
      "Good!\n",
      "<class 'list'>\n",
      "x\n",
      "y\n",
      "/5\n",
      "Good!\n",
      "<class 'list'>\n",
      "x\n",
      "y\n",
      "/6\n",
      "Good!\n",
      "<class 'list'>\n",
      "x\n",
      "y\n",
      "/7\n",
      "Good!\n",
      "<class 'list'>\n",
      "x\n",
      "y\n",
      "/8\n",
      "Good!\n",
      "<class 'list'>\n",
      "x\n",
      "y\n",
      "/9\n",
      "Good!\n",
      "<class 'list'>\n",
      "x\n",
      "y\n",
      "10\n",
      "Good!\n",
      "<class 'list'>\n",
      "x\n",
      "y\n",
      "11\n",
      "Good!\n",
      "<class 'list'>\n",
      "x\n",
      "y\n",
      "12\n",
      "Good!\n",
      "<class 'list'>\n",
      "x\n",
      "y\n",
      "13\n",
      "Good!\n",
      "<class 'list'>\n",
      "x\n",
      "y\n",
      "14\n",
      "Good!\n",
      "<class 'list'>\n",
      "x\n",
      "y\n",
      "15\n",
      "Good!\n",
      "<class 'list'>\n",
      "x\n",
      "y\n",
      "16\n",
      "Good!\n",
      "<class 'list'>\n",
      "x\n",
      "y\n",
      "        Artist Year_Inducted\n",
      "7   Bobby Bare          2013\n",
      "8  Johnny Bond          1999\n"
     ]
    },
    {
     "ename": "MissingSchema",
     "evalue": "Invalid URL 'Artist Year_Inducted\\n0      Roy Acuff          1962\\n1        Alabama          2005\\n2  Bill Anderson          2001\\n3    Eddy Arnold          1966\\n4    Chet Atkins          1973\\n5     Gene Autry          1969\\n6  DeFord Bailey          2005\\n7     Bobby Bare          2013\\n8    Johnny Bond          1999': No schema supplied. Perhaps you meant http://Artist Year_Inducted\n0      Roy Acuff          1962\n1        Alabama          2005\n2  Bill Anderson          2001\n3    Eddy Arnold          1966\n4    Chet Atkins          1973\n5     Gene Autry          1969\n6  DeFord Bailey          2005\n7     Bobby Bare          2013\n8    Johnny Bond          1999?",
     "output_type": "error",
     "traceback": [
      "\u001b[1;31m---------------------------------------------------------------------------\u001b[0m",
      "\u001b[1;31mMissingSchema\u001b[0m                             Traceback (most recent call last)",
      "\u001b[1;32m<ipython-input-23-1e0d8cd00b53>\u001b[0m in \u001b[0;36m<module>\u001b[1;34m\u001b[0m\n\u001b[0;32m      2\u001b[0m \u001b[1;32mfor\u001b[0m \u001b[0mlink\u001b[0m \u001b[1;32min\u001b[0m \u001b[0mlst\u001b[0m\u001b[1;33m:\u001b[0m\u001b[1;33m\u001b[0m\u001b[1;33m\u001b[0m\u001b[0m\n\u001b[0;32m      3\u001b[0m     \u001b[0mprint\u001b[0m\u001b[1;33m(\u001b[0m\u001b[0mlink\u001b[0m\u001b[1;33m[\u001b[0m\u001b[1;33m-\u001b[0m\u001b[1;36m2\u001b[0m\u001b[1;33m:\u001b[0m\u001b[1;33m]\u001b[0m\u001b[1;33m)\u001b[0m\u001b[1;33m\u001b[0m\u001b[1;33m\u001b[0m\u001b[0m\n\u001b[1;32m----> 4\u001b[1;33m     \u001b[0mdf\u001b[0m \u001b[1;33m=\u001b[0m \u001b[0mcreate_df\u001b[0m\u001b[1;33m(\u001b[0m\u001b[0mlink\u001b[0m\u001b[1;33m)\u001b[0m\u001b[1;33m\u001b[0m\u001b[1;33m\u001b[0m\u001b[0m\n\u001b[0m\u001b[0;32m      5\u001b[0m     \u001b[0mprint\u001b[0m\u001b[1;33m(\u001b[0m\u001b[0mtype\u001b[0m\u001b[1;33m(\u001b[0m\u001b[0mdf\u001b[0m\u001b[1;33m)\u001b[0m\u001b[1;33m)\u001b[0m\u001b[1;33m\u001b[0m\u001b[1;33m\u001b[0m\u001b[0m\n\u001b[0;32m      6\u001b[0m     \u001b[0mprint\u001b[0m\u001b[1;33m(\u001b[0m\u001b[1;34m\"x\"\u001b[0m\u001b[1;33m)\u001b[0m\u001b[1;33m\u001b[0m\u001b[1;33m\u001b[0m\u001b[0m\n",
      "\u001b[1;32m<ipython-input-7-900592e26d3b>\u001b[0m in \u001b[0;36mcreate_df\u001b[1;34m(link)\u001b[0m\n\u001b[0;32m      1\u001b[0m \u001b[0mlst\u001b[0m \u001b[1;33m=\u001b[0m \u001b[1;33m[\u001b[0m\u001b[1;34m'https://countrymusichalloffame.org/hall-of-fame/members/'\u001b[0m\u001b[1;33m]\u001b[0m\u001b[1;33m\u001b[0m\u001b[1;33m\u001b[0m\u001b[0m\n\u001b[0;32m      2\u001b[0m \u001b[1;32mdef\u001b[0m \u001b[0mcreate_df\u001b[0m\u001b[1;33m(\u001b[0m\u001b[0mlink\u001b[0m\u001b[1;33m)\u001b[0m\u001b[1;33m:\u001b[0m\u001b[1;33m\u001b[0m\u001b[1;33m\u001b[0m\u001b[0m\n\u001b[1;32m----> 3\u001b[1;33m     \u001b[0mresponse\u001b[0m \u001b[1;33m=\u001b[0m \u001b[0mrequests\u001b[0m\u001b[1;33m.\u001b[0m\u001b[0mget\u001b[0m\u001b[1;33m(\u001b[0m\u001b[0mlink\u001b[0m\u001b[1;33m)\u001b[0m\u001b[1;33m\u001b[0m\u001b[1;33m\u001b[0m\u001b[0m\n\u001b[0m\u001b[0;32m      4\u001b[0m     \u001b[0msoup\u001b[0m \u001b[1;33m=\u001b[0m \u001b[0mBeautifulSoup\u001b[0m\u001b[1;33m(\u001b[0m\u001b[0mresponse\u001b[0m\u001b[1;33m.\u001b[0m\u001b[0mcontent\u001b[0m\u001b[1;33m,\u001b[0m \u001b[1;34m'lxml'\u001b[0m\u001b[1;33m)\u001b[0m\u001b[1;33m\u001b[0m\u001b[1;33m\u001b[0m\u001b[0m\n\u001b[0;32m      5\u001b[0m     \u001b[0mstuff\u001b[0m \u001b[1;33m=\u001b[0m \u001b[0mstep1\u001b[0m\u001b[1;33m(\u001b[0m\u001b[0mlink\u001b[0m\u001b[1;33m)\u001b[0m\u001b[1;33m\u001b[0m\u001b[1;33m\u001b[0m\u001b[0m\n",
      "\u001b[1;32m~\\anaconda3\\lib\\site-packages\\requests\\api.py\u001b[0m in \u001b[0;36mget\u001b[1;34m(url, params, **kwargs)\u001b[0m\n\u001b[0;32m     74\u001b[0m \u001b[1;33m\u001b[0m\u001b[0m\n\u001b[0;32m     75\u001b[0m     \u001b[0mkwargs\u001b[0m\u001b[1;33m.\u001b[0m\u001b[0msetdefault\u001b[0m\u001b[1;33m(\u001b[0m\u001b[1;34m'allow_redirects'\u001b[0m\u001b[1;33m,\u001b[0m \u001b[1;32mTrue\u001b[0m\u001b[1;33m)\u001b[0m\u001b[1;33m\u001b[0m\u001b[1;33m\u001b[0m\u001b[0m\n\u001b[1;32m---> 76\u001b[1;33m     \u001b[1;32mreturn\u001b[0m \u001b[0mrequest\u001b[0m\u001b[1;33m(\u001b[0m\u001b[1;34m'get'\u001b[0m\u001b[1;33m,\u001b[0m \u001b[0murl\u001b[0m\u001b[1;33m,\u001b[0m \u001b[0mparams\u001b[0m\u001b[1;33m=\u001b[0m\u001b[0mparams\u001b[0m\u001b[1;33m,\u001b[0m \u001b[1;33m**\u001b[0m\u001b[0mkwargs\u001b[0m\u001b[1;33m)\u001b[0m\u001b[1;33m\u001b[0m\u001b[1;33m\u001b[0m\u001b[0m\n\u001b[0m\u001b[0;32m     77\u001b[0m \u001b[1;33m\u001b[0m\u001b[0m\n\u001b[0;32m     78\u001b[0m \u001b[1;33m\u001b[0m\u001b[0m\n",
      "\u001b[1;32m~\\anaconda3\\lib\\site-packages\\requests\\api.py\u001b[0m in \u001b[0;36mrequest\u001b[1;34m(method, url, **kwargs)\u001b[0m\n\u001b[0;32m     59\u001b[0m     \u001b[1;31m# cases, and look like a memory leak in others.\u001b[0m\u001b[1;33m\u001b[0m\u001b[1;33m\u001b[0m\u001b[1;33m\u001b[0m\u001b[0m\n\u001b[0;32m     60\u001b[0m     \u001b[1;32mwith\u001b[0m \u001b[0msessions\u001b[0m\u001b[1;33m.\u001b[0m\u001b[0mSession\u001b[0m\u001b[1;33m(\u001b[0m\u001b[1;33m)\u001b[0m \u001b[1;32mas\u001b[0m \u001b[0msession\u001b[0m\u001b[1;33m:\u001b[0m\u001b[1;33m\u001b[0m\u001b[1;33m\u001b[0m\u001b[0m\n\u001b[1;32m---> 61\u001b[1;33m         \u001b[1;32mreturn\u001b[0m \u001b[0msession\u001b[0m\u001b[1;33m.\u001b[0m\u001b[0mrequest\u001b[0m\u001b[1;33m(\u001b[0m\u001b[0mmethod\u001b[0m\u001b[1;33m=\u001b[0m\u001b[0mmethod\u001b[0m\u001b[1;33m,\u001b[0m \u001b[0murl\u001b[0m\u001b[1;33m=\u001b[0m\u001b[0murl\u001b[0m\u001b[1;33m,\u001b[0m \u001b[1;33m**\u001b[0m\u001b[0mkwargs\u001b[0m\u001b[1;33m)\u001b[0m\u001b[1;33m\u001b[0m\u001b[1;33m\u001b[0m\u001b[0m\n\u001b[0m\u001b[0;32m     62\u001b[0m \u001b[1;33m\u001b[0m\u001b[0m\n\u001b[0;32m     63\u001b[0m \u001b[1;33m\u001b[0m\u001b[0m\n",
      "\u001b[1;32m~\\anaconda3\\lib\\site-packages\\requests\\sessions.py\u001b[0m in \u001b[0;36mrequest\u001b[1;34m(self, method, url, params, data, headers, cookies, files, auth, timeout, allow_redirects, proxies, hooks, stream, verify, cert, json)\u001b[0m\n\u001b[0;32m    526\u001b[0m             \u001b[0mhooks\u001b[0m\u001b[1;33m=\u001b[0m\u001b[0mhooks\u001b[0m\u001b[1;33m,\u001b[0m\u001b[1;33m\u001b[0m\u001b[1;33m\u001b[0m\u001b[0m\n\u001b[0;32m    527\u001b[0m         )\n\u001b[1;32m--> 528\u001b[1;33m         \u001b[0mprep\u001b[0m \u001b[1;33m=\u001b[0m \u001b[0mself\u001b[0m\u001b[1;33m.\u001b[0m\u001b[0mprepare_request\u001b[0m\u001b[1;33m(\u001b[0m\u001b[0mreq\u001b[0m\u001b[1;33m)\u001b[0m\u001b[1;33m\u001b[0m\u001b[1;33m\u001b[0m\u001b[0m\n\u001b[0m\u001b[0;32m    529\u001b[0m \u001b[1;33m\u001b[0m\u001b[0m\n\u001b[0;32m    530\u001b[0m         \u001b[0mproxies\u001b[0m \u001b[1;33m=\u001b[0m \u001b[0mproxies\u001b[0m \u001b[1;32mor\u001b[0m \u001b[1;33m{\u001b[0m\u001b[1;33m}\u001b[0m\u001b[1;33m\u001b[0m\u001b[1;33m\u001b[0m\u001b[0m\n",
      "\u001b[1;32m~\\anaconda3\\lib\\site-packages\\requests\\sessions.py\u001b[0m in \u001b[0;36mprepare_request\u001b[1;34m(self, request)\u001b[0m\n\u001b[0;32m    454\u001b[0m \u001b[1;33m\u001b[0m\u001b[0m\n\u001b[0;32m    455\u001b[0m         \u001b[0mp\u001b[0m \u001b[1;33m=\u001b[0m \u001b[0mPreparedRequest\u001b[0m\u001b[1;33m(\u001b[0m\u001b[1;33m)\u001b[0m\u001b[1;33m\u001b[0m\u001b[1;33m\u001b[0m\u001b[0m\n\u001b[1;32m--> 456\u001b[1;33m         p.prepare(\n\u001b[0m\u001b[0;32m    457\u001b[0m             \u001b[0mmethod\u001b[0m\u001b[1;33m=\u001b[0m\u001b[0mrequest\u001b[0m\u001b[1;33m.\u001b[0m\u001b[0mmethod\u001b[0m\u001b[1;33m.\u001b[0m\u001b[0mupper\u001b[0m\u001b[1;33m(\u001b[0m\u001b[1;33m)\u001b[0m\u001b[1;33m,\u001b[0m\u001b[1;33m\u001b[0m\u001b[1;33m\u001b[0m\u001b[0m\n\u001b[0;32m    458\u001b[0m             \u001b[0murl\u001b[0m\u001b[1;33m=\u001b[0m\u001b[0mrequest\u001b[0m\u001b[1;33m.\u001b[0m\u001b[0murl\u001b[0m\u001b[1;33m,\u001b[0m\u001b[1;33m\u001b[0m\u001b[1;33m\u001b[0m\u001b[0m\n",
      "\u001b[1;32m~\\anaconda3\\lib\\site-packages\\requests\\models.py\u001b[0m in \u001b[0;36mprepare\u001b[1;34m(self, method, url, headers, files, data, params, auth, cookies, hooks, json)\u001b[0m\n\u001b[0;32m    314\u001b[0m \u001b[1;33m\u001b[0m\u001b[0m\n\u001b[0;32m    315\u001b[0m         \u001b[0mself\u001b[0m\u001b[1;33m.\u001b[0m\u001b[0mprepare_method\u001b[0m\u001b[1;33m(\u001b[0m\u001b[0mmethod\u001b[0m\u001b[1;33m)\u001b[0m\u001b[1;33m\u001b[0m\u001b[1;33m\u001b[0m\u001b[0m\n\u001b[1;32m--> 316\u001b[1;33m         \u001b[0mself\u001b[0m\u001b[1;33m.\u001b[0m\u001b[0mprepare_url\u001b[0m\u001b[1;33m(\u001b[0m\u001b[0murl\u001b[0m\u001b[1;33m,\u001b[0m \u001b[0mparams\u001b[0m\u001b[1;33m)\u001b[0m\u001b[1;33m\u001b[0m\u001b[1;33m\u001b[0m\u001b[0m\n\u001b[0m\u001b[0;32m    317\u001b[0m         \u001b[0mself\u001b[0m\u001b[1;33m.\u001b[0m\u001b[0mprepare_headers\u001b[0m\u001b[1;33m(\u001b[0m\u001b[0mheaders\u001b[0m\u001b[1;33m)\u001b[0m\u001b[1;33m\u001b[0m\u001b[1;33m\u001b[0m\u001b[0m\n\u001b[0;32m    318\u001b[0m         \u001b[0mself\u001b[0m\u001b[1;33m.\u001b[0m\u001b[0mprepare_cookies\u001b[0m\u001b[1;33m(\u001b[0m\u001b[0mcookies\u001b[0m\u001b[1;33m)\u001b[0m\u001b[1;33m\u001b[0m\u001b[1;33m\u001b[0m\u001b[0m\n",
      "\u001b[1;32m~\\anaconda3\\lib\\site-packages\\requests\\models.py\u001b[0m in \u001b[0;36mprepare_url\u001b[1;34m(self, url, params)\u001b[0m\n\u001b[0;32m    388\u001b[0m             \u001b[0merror\u001b[0m \u001b[1;33m=\u001b[0m \u001b[0merror\u001b[0m\u001b[1;33m.\u001b[0m\u001b[0mformat\u001b[0m\u001b[1;33m(\u001b[0m\u001b[0mto_native_string\u001b[0m\u001b[1;33m(\u001b[0m\u001b[0murl\u001b[0m\u001b[1;33m,\u001b[0m \u001b[1;34m'utf8'\u001b[0m\u001b[1;33m)\u001b[0m\u001b[1;33m)\u001b[0m\u001b[1;33m\u001b[0m\u001b[1;33m\u001b[0m\u001b[0m\n\u001b[0;32m    389\u001b[0m \u001b[1;33m\u001b[0m\u001b[0m\n\u001b[1;32m--> 390\u001b[1;33m             \u001b[1;32mraise\u001b[0m \u001b[0mMissingSchema\u001b[0m\u001b[1;33m(\u001b[0m\u001b[0merror\u001b[0m\u001b[1;33m)\u001b[0m\u001b[1;33m\u001b[0m\u001b[1;33m\u001b[0m\u001b[0m\n\u001b[0m\u001b[0;32m    391\u001b[0m \u001b[1;33m\u001b[0m\u001b[0m\n\u001b[0;32m    392\u001b[0m         \u001b[1;32mif\u001b[0m \u001b[1;32mnot\u001b[0m \u001b[0mhost\u001b[0m\u001b[1;33m:\u001b[0m\u001b[1;33m\u001b[0m\u001b[1;33m\u001b[0m\u001b[0m\n",
      "\u001b[1;31mMissingSchema\u001b[0m: Invalid URL 'Artist Year_Inducted\\n0      Roy Acuff          1962\\n1        Alabama          2005\\n2  Bill Anderson          2001\\n3    Eddy Arnold          1966\\n4    Chet Atkins          1973\\n5     Gene Autry          1969\\n6  DeFord Bailey          2005\\n7     Bobby Bare          2013\\n8    Johnny Bond          1999': No schema supplied. Perhaps you meant http://Artist Year_Inducted\n0      Roy Acuff          1962\n1        Alabama          2005\n2  Bill Anderson          2001\n3    Eddy Arnold          1966\n4    Chet Atkins          1973\n5     Gene Autry          1969\n6  DeFord Bailey          2005\n7     Bobby Bare          2013\n8    Johnny Bond          1999?"
     ]
    }
   ],
   "source": [
    "df_list = []\n",
    "for link in lst:\n",
    "    print(link[-2:])\n",
    "    df = create_df(link)\n",
    "    print(type(df)) \n",
    "########################## This loop seems to be reading something additional, as my print statement at the beginning actually generates the last two items of the df once the list contents are finished running\n",
    "    print(\"x\")\n",
    "    df_list.append(df)\n",
    "    df\n",
    "    print(\"y\")"
   ]
  },
  {
   "cell_type": "code",
   "execution_count": null,
   "id": "5f10c005",
   "metadata": {},
   "outputs": [],
   "source": [
    "result = pd.concat(df_list)\n",
    "result"
   ]
  }
 ],
 "metadata": {
  "kernelspec": {
   "display_name": "Python 3",
   "language": "python",
   "name": "python3"
  },
  "language_info": {
   "codemirror_mode": {
    "name": "ipython",
    "version": 3
   },
   "file_extension": ".py",
   "mimetype": "text/x-python",
   "name": "python",
   "nbconvert_exporter": "python",
   "pygments_lexer": "ipython3",
   "version": "3.8.8"
  }
 },
 "nbformat": 4,
 "nbformat_minor": 5
}
